{
 "cells": [
  {
   "attachments": {},
   "cell_type": "markdown",
   "metadata": {},
   "source": [
    "# Hybrid Classical Quantum AutoEncoder for anomaly detection"
   ]
  },
  {
   "attachments": {},
   "cell_type": "markdown",
   "metadata": {},
   "source": [
    "## VQC\n",
    "The VQC implemented is the number 10 of the reference paper, which essentially is a stack Pauli $YX$ rotation gate and a circular series of controlled $CX$, stacked while alternated with an encoding based on the Pauli $X$ rotation"
   ]
  },
  {
   "cell_type": "code",
   "execution_count": 8,
   "metadata": {},
   "outputs": [],
   "source": [
    "from qiskit.circuit import QuantumCircuit, Gate, ParameterVector\n",
    "from qiskit.opflow.expectations import PauliExpectation\n",
    "from qiskit_machine_learning.connectors import TorchConnector\n",
    "\n",
    "def get_encoding_block(nqubits: int, features: ParameterVector) -> Gate:\n",
    "    \"\"\" n parameters required \"\"\"\n",
    "    assert len(features) == nqubits \n",
    "    block = QuantumCircuit(nqubits, name=\"Encoding Block\")\n",
    "    for i in range(nqubits):\n",
    "        block.rx(features[i], i)\n",
    "    return block.to_gate()\n",
    "\n",
    "def get_ansatz_block(nqubits: int, parameters: ParameterVector) -> Gate:\n",
    "    \"\"\"\n",
    "    need 2n parameters\n",
    "    \"\"\"\n",
    "    assert nqubits * 2 == len(parameters)\n",
    "    block = QuantumCircuit(nqubits, name=\"Ansatz Block\")\n",
    "    for i in range(nqubits):\n",
    "        block.ry(parameters[i], i)\n",
    "        block.rx(parameters[i + nqubits], i)\n",
    "    if nqubits > 1:\n",
    "        block.cx(nqubits - 1, 0)\n",
    "        for i in range(nqubits - 1):\n",
    "            block.cx(i, i + 1)\n",
    "    return block.to_gate()\n",
    "\n",
    "def get_ansatz(nqubits: int, parameters: ParameterVector, features: ParameterVector, reps: int=3) -> QuantumCircuit:\n",
    "    assert len(parameters) == reps * 2 * nqubits\n",
    "    ansatz = QuantumCircuit(nqubits)\n",
    "    ansatz.compose(get_ansatz_block(nqubits, parameters[:2 * nqubits]), range(nqubits), inplace=True)\n",
    "    for i in range(1, reps):\n",
    "        ansatz.barrier()\n",
    "        ansatz.compose(get_encoding_block(nqubits, features), range(nqubits), inplace=True)\n",
    "        ansatz.barrier()\n",
    "        ansatz.compose(get_ansatz_block(nqubits, parameters[2 * nqubits * i :2 * nqubits * (i + 1)]), range(nqubits), inplace=True)\n",
    "    return ansatz\n",
    "\n",
    "def get_ansatz_ws(nqubits: int, parameters: ParameterVector, features: ParameterVector, reps: int=3) -> QuantumCircuit:\n",
    "    assert len(parameters) == 2 * nqubits\n",
    "    ansatz = QuantumCircuit(nqubits)\n",
    "    ansatz.compose(get_ansatz_block(nqubits, parameters), range(nqubits), inplace=True)\n",
    "    for i in range(1, reps):\n",
    "        ansatz.barrier()\n",
    "        ansatz.compose(get_encoding_block(nqubits, features), range(nqubits), inplace=True)\n",
    "        ansatz.barrier()\n",
    "        ansatz.compose(get_ansatz_block(nqubits, parameters), range(nqubits), inplace=True)\n",
    "    return ansatz\n"
   ]
  },
  {
   "cell_type": "code",
   "execution_count": 19,
   "metadata": {},
   "outputs": [
    {
     "name": "stdout",
     "output_type": "stream",
     "text": [
      "[[0.80725468 0.26761882 0.94861625 0.50421627]\n",
      " [0.7698305  0.2292505  0.9626732  0.8040316 ]\n",
      " [0.85501103 0.85395559 0.69492289 0.49207791]\n",
      " [0.49374971 0.50729469 0.60206583 0.75959243]\n",
      " [0.18578251 0.68047336 0.7272356  0.26538521]\n",
      " [0.15946585 0.58420932 0.95539176 0.30436282]\n",
      " [0.52903154 0.47291539 0.33246663 0.76808705]\n",
      " [0.66603794 0.78136749 0.50693698 0.39778749]\n",
      " [0.83293417 0.77548085 0.08815    0.57324428]\n",
      " [0.23076437 0.94343524 0.12147385 0.37204892]] 4\n"
     ]
    }
   ],
   "source": [
    "from qiskit.utils import algorithm_globals\n",
    "algorithm_globals.random_seed = 528491\n",
    "\n",
    "size = (10, 4)\n",
    "data = algorithm_globals.random.random(size)\n",
    "nqubits = data.shape[1]\n",
    "print(data, nqubits)"
   ]
  },
  {
   "cell_type": "code",
   "execution_count": 20,
   "metadata": {},
   "outputs": [
    {
     "data": {
      "text/html": [
       "<pre style=\"word-wrap: normal;white-space: pre;background: #fff0;line-height: 1.1;font-family: &quot;Courier New&quot;,Courier,monospace\">     »\n",
       "q_0: »\n",
       "     »\n",
       "q_1: »\n",
       "     »\n",
       "q_2: »\n",
       "     »\n",
       "q_3: »\n",
       "     »\n",
       "«     ┌────────────────────────────────────────────────────────────────────────────────────────┐»\n",
       "«q_0: ┤0                                                                                       ├»\n",
       "«     │                                                                                        │»\n",
       "«q_1: ┤1                                                                                       ├»\n",
       "«     │  Ansatz Block(theta[0],theta[1],theta[2],theta[3],theta[4],theta[5],theta[6],theta[7]) │»\n",
       "«q_2: ┤2                                                                                       ├»\n",
       "«     │                                                                                        │»\n",
       "«q_3: ┤3                                                                                       ├»\n",
       "«     └────────────────────────────────────────────────────────────────────────────────────────┘»\n",
       "«      ░ ┌──────────────────────────────────────┐ ░ »\n",
       "«q_0: ─░─┤0                                     ├─░─»\n",
       "«      ░ │                                      │ ░ »\n",
       "«q_1: ─░─┤1                                     ├─░─»\n",
       "«      ░ │  Encoding Block(x[0],x[1],x[2],x[3]) │ ░ »\n",
       "«q_2: ─░─┤2                                     ├─░─»\n",
       "«      ░ │                                      │ ░ »\n",
       "«q_3: ─░─┤3                                     ├─░─»\n",
       "«      ░ └──────────────────────────────────────┘ ░ »\n",
       "«     ┌────────────────────────────────────────────────────────────────────────────────────────┐»\n",
       "«q_0: ┤0                                                                                       ├»\n",
       "«     │                                                                                        │»\n",
       "«q_1: ┤1                                                                                       ├»\n",
       "«     │  Ansatz Block(theta[0],theta[1],theta[2],theta[3],theta[4],theta[5],theta[6],theta[7]) │»\n",
       "«q_2: ┤2                                                                                       ├»\n",
       "«     │                                                                                        │»\n",
       "«q_3: ┤3                                                                                       ├»\n",
       "«     └────────────────────────────────────────────────────────────────────────────────────────┘»\n",
       "«      ░ ┌──────────────────────────────────────┐ ░ »\n",
       "«q_0: ─░─┤0                                     ├─░─»\n",
       "«      ░ │                                      │ ░ »\n",
       "«q_1: ─░─┤1                                     ├─░─»\n",
       "«      ░ │  Encoding Block(x[0],x[1],x[2],x[3]) │ ░ »\n",
       "«q_2: ─░─┤2                                     ├─░─»\n",
       "«      ░ │                                      │ ░ »\n",
       "«q_3: ─░─┤3                                     ├─░─»\n",
       "«      ░ └──────────────────────────────────────┘ ░ »\n",
       "«     ┌────────────────────────────────────────────────────────────────────────────────────────┐\n",
       "«q_0: ┤0                                                                                       ├\n",
       "«     │                                                                                        │\n",
       "«q_1: ┤1                                                                                       ├\n",
       "«     │  Ansatz Block(theta[0],theta[1],theta[2],theta[3],theta[4],theta[5],theta[6],theta[7]) │\n",
       "«q_2: ┤2                                                                                       ├\n",
       "«     │                                                                                        │\n",
       "«q_3: ┤3                                                                                       ├\n",
       "«     └────────────────────────────────────────────────────────────────────────────────────────┘</pre>"
      ],
      "text/plain": [
       "     »\n",
       "q_0: »\n",
       "     »\n",
       "q_1: »\n",
       "     »\n",
       "q_2: »\n",
       "     »\n",
       "q_3: »\n",
       "     »\n",
       "«     ┌────────────────────────────────────────────────────────────────────────────────────────┐»\n",
       "«q_0: ┤0                                                                                       ├»\n",
       "«     │                                                                                        │»\n",
       "«q_1: ┤1                                                                                       ├»\n",
       "«     │  Ansatz Block(theta[0],theta[1],theta[2],theta[3],theta[4],theta[5],theta[6],theta[7]) │»\n",
       "«q_2: ┤2                                                                                       ├»\n",
       "«     │                                                                                        │»\n",
       "«q_3: ┤3                                                                                       ├»\n",
       "«     └────────────────────────────────────────────────────────────────────────────────────────┘»\n",
       "«      ░ ┌──────────────────────────────────────┐ ░ »\n",
       "«q_0: ─░─┤0                                     ├─░─»\n",
       "«      ░ │                                      │ ░ »\n",
       "«q_1: ─░─┤1                                     ├─░─»\n",
       "«      ░ │  Encoding Block(x[0],x[1],x[2],x[3]) │ ░ »\n",
       "«q_2: ─░─┤2                                     ├─░─»\n",
       "«      ░ │                                      │ ░ »\n",
       "«q_3: ─░─┤3                                     ├─░─»\n",
       "«      ░ └──────────────────────────────────────┘ ░ »\n",
       "«     ┌────────────────────────────────────────────────────────────────────────────────────────┐»\n",
       "«q_0: ┤0                                                                                       ├»\n",
       "«     │                                                                                        │»\n",
       "«q_1: ┤1                                                                                       ├»\n",
       "«     │  Ansatz Block(theta[0],theta[1],theta[2],theta[3],theta[4],theta[5],theta[6],theta[7]) │»\n",
       "«q_2: ┤2                                                                                       ├»\n",
       "«     │                                                                                        │»\n",
       "«q_3: ┤3                                                                                       ├»\n",
       "«     └────────────────────────────────────────────────────────────────────────────────────────┘»\n",
       "«      ░ ┌──────────────────────────────────────┐ ░ »\n",
       "«q_0: ─░─┤0                                     ├─░─»\n",
       "«      ░ │                                      │ ░ »\n",
       "«q_1: ─░─┤1                                     ├─░─»\n",
       "«      ░ │  Encoding Block(x[0],x[1],x[2],x[3]) │ ░ »\n",
       "«q_2: ─░─┤2                                     ├─░─»\n",
       "«      ░ │                                      │ ░ »\n",
       "«q_3: ─░─┤3                                     ├─░─»\n",
       "«      ░ └──────────────────────────────────────┘ ░ »\n",
       "«     ┌────────────────────────────────────────────────────────────────────────────────────────┐\n",
       "«q_0: ┤0                                                                                       ├\n",
       "«     │                                                                                        │\n",
       "«q_1: ┤1                                                                                       ├\n",
       "«     │  Ansatz Block(theta[0],theta[1],theta[2],theta[3],theta[4],theta[5],theta[6],theta[7]) │\n",
       "«q_2: ┤2                                                                                       ├\n",
       "«     │                                                                                        │\n",
       "«q_3: ┤3                                                                                       ├\n",
       "«     └────────────────────────────────────────────────────────────────────────────────────────┘"
      ]
     },
     "execution_count": 20,
     "metadata": {},
     "output_type": "execute_result"
    }
   ],
   "source": [
    "input = ParameterVector(\"x\", data.shape[1])\n",
    "weights = ParameterVector(\"theta\", nqubits * 2)\n",
    "circuit = get_ansatz_ws(nqubits, weights, input)\n",
    "circuit.draw()\n"
   ]
  },
  {
   "cell_type": "code",
   "execution_count": 21,
   "metadata": {},
   "outputs": [
    {
     "name": "stdout",
     "output_type": "stream",
     "text": [
      "[0.31544562 0.04572466 0.8256722  0.25411594 0.53149553 0.23323015\n",
      " 0.59966905 0.13732588]\n"
     ]
    }
   ],
   "source": [
    "random_weights = algorithm_globals.random.random(2 * nqubits)\n",
    "print(random_weights)"
   ]
  },
  {
   "cell_type": "code",
   "execution_count": null,
   "metadata": {},
   "outputs": [
    {
     "name": "stdout",
     "output_type": "stream",
     "text": [
      "<qiskit_machine_learning.neural_networks.sampler_qnn.SamplerQNN object at 0x7f848bcd5060>\n"
     ]
    }
   ],
   "source": [
    "from qiskit_machine_learning.neural_networks import SamplerQNN\n",
    "\n",
    "sqnn_ws = SamplerQNN(\n",
    "    circuit=circuit,\n",
    "    input_params=input,\n",
    "    weight_params=weights,\n",
    "    interpret=lambda x: \"{:b}\".format(x).count('1') % 2 == 0, # parity check\n",
    "    output_shape=2\n",
    ")\n",
    "print(sqnn_ws)"
   ]
  },
  {
   "cell_type": "code",
   "execution_count": null,
   "metadata": {},
   "outputs": [
    {
     "name": "stdout",
     "output_type": "stream",
     "text": [
      "Forward pass result for SamplerQNN: [[0.43589833 0.43589833]]. \n",
      "Shape: (1, 2)\n"
     ]
    }
   ],
   "source": [
    "sampler_qnn_forward = sqnn_ws.forward(data[0], random_weights) # require encoding + ansatz parameters, result is a ndarray\n",
    "print(f\"Forward pass result for SamplerQNN: {sampler_qnn_forward}. \\nShape: {sampler_qnn_forward.shape}\")\n"
   ]
  },
  {
   "cell_type": "code",
   "execution_count": null,
   "metadata": {},
   "outputs": [],
   "source": [
    "input1 = ParameterVector(\"x1\", data.shape[1])\n",
    "weights1 = ParameterVector(\"theta1\", nqubits * 2 * 3)\n",
    "circuit = get_ansatz(nqubits, weights, input)\n",
    "circuit.draw()\n"
   ]
  },
  {
   "cell_type": "code",
   "execution_count": null,
   "metadata": {},
   "outputs": [],
   "source": []
  }
 ],
 "metadata": {
  "kernelspec": {
   "display_name": "qml",
   "language": "python",
   "name": "python3"
  },
  "language_info": {
   "codemirror_mode": {
    "name": "ipython",
    "version": 3
   },
   "file_extension": ".py",
   "mimetype": "text/x-python",
   "name": "python",
   "nbconvert_exporter": "python",
   "pygments_lexer": "ipython3",
   "version": "3.10.9"
  },
  "orig_nbformat": 4
 },
 "nbformat": 4,
 "nbformat_minor": 2
}
