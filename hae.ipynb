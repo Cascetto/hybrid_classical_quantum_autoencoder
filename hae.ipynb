{
 "cells": [
  {
   "attachments": {},
   "cell_type": "markdown",
   "metadata": {},
   "source": [
    "# Hybrid Classical Quantum AutoEncoder for anomaly detection"
   ]
  },
  {
   "attachments": {},
   "cell_type": "markdown",
   "metadata": {},
   "source": [
    "## VQC\n",
    "The VQC implemented is the number 10 of the reference paper, which essentially is a stack Pauli $YX$ rotation gate and a circular series of controlled $CX$, stacked while alternated with an encoding based on the Pauli $X$ rotation"
   ]
  },
  {
   "cell_type": "code",
   "execution_count": 12,
   "metadata": {},
   "outputs": [],
   "source": [
    "from qiskit.circuit import QuantumCircuit, Gate, ParameterVector\n",
    "def get_encoding_block(nqubits: int, features: list[float]) -> Gate:\n",
    "    \"\"\"\n",
    "    need n features\n",
    "    \"\"\"\n",
    "    assert nqubits == len(features)\n",
    "    block = QuantumCircuit(nqubits, name=\"Encoding Block\")\n",
    "    for i in range(nqubits):\n",
    "        block.rx(features[i], i)\n",
    "    return block.to_gate()\n",
    "\n",
    "def get_ansatz_block(nqubits: int, parameters: ParameterVector) -> Gate:\n",
    "    \"\"\"\n",
    "    need 2n parameters\n",
    "    \"\"\"\n",
    "    assert nqubits * 2 == len(parameters)\n",
    "    block = QuantumCircuit(nqubits, name=\"Ansatz Block\")\n",
    "    for i in range(nqubits):\n",
    "        block.ry(parameters[i], i)\n",
    "        block.rx(parameters[i + nqubits], i)\n",
    "    if nqubits > 1:\n",
    "        block.cx(nqubits - 1, 0)\n",
    "        for i in range(nqubits - 1):\n",
    "            block.cx(i, i + 1)\n",
    "    return block.to_gate()\n",
    "\n",
    "def get_ansatz(nqubits: int, parameters: ParameterVector, features: list[float], reps=3) -> QuantumCircuit:\n",
    "    assert len(parameters) == reps * 2 * nqubits\n",
    "    ansatz = QuantumCircuit(nqubits)\n",
    "    ansatz.compose(get_ansatz_block(nqubits, parameters[:2 * nqubits]), range(nqubits), inplace=True)\n",
    "    for i in range(1, reps):\n",
    "        ansatz.barrier()\n",
    "        ansatz.compose(get_encoding_block(nqubits, features), range(nqubits), inplace=True)\n",
    "        ansatz.barrier()\n",
    "        ansatz.compose(get_ansatz_block(nqubits, parameters[2 * nqubits * i :2 * nqubits * (i + 1)]), range(nqubits), inplace=True)\n",
    "    return ansatz\n"
   ]
  },
  {
   "cell_type": "code",
   "execution_count": 14,
   "metadata": {},
   "outputs": [
    {
     "data": {
      "text/html": [
       "<pre style=\"word-wrap: normal;white-space: pre;background: #fff0;line-height: 1.1;font-family: &quot;Courier New&quot;,Courier,monospace\">     ┌──────────────┐┌──────────────┐┌───┐                ░ ┌───────┐ ░ »\n",
       "q_0: ┤ Ry(theta[0]) ├┤ Rx(theta[4]) ├┤ X ├──■─────────────░─┤ Rx(0) ├─░─»\n",
       "     ├──────────────┤├──────────────┤└─┬─┘┌─┴─┐           ░ ├───────┤ ░ »\n",
       "q_1: ┤ Ry(theta[1]) ├┤ Rx(theta[5]) ├──┼──┤ X ├──■────────░─┤ Rx(0) ├─░─»\n",
       "     ├──────────────┤├──────────────┤  │  └───┘┌─┴─┐      ░ ├───────┤ ░ »\n",
       "q_2: ┤ Ry(theta[2]) ├┤ Rx(theta[6]) ├──┼───────┤ X ├──■───░─┤ Rx(0) ├─░─»\n",
       "     ├──────────────┤├──────────────┤  │       └───┘┌─┴─┐ ░ ├───────┤ ░ »\n",
       "q_3: ┤ Ry(theta[3]) ├┤ Rx(theta[7]) ├──■────────────┤ X ├─░─┤ Rx(0) ├─░─»\n",
       "     └──────────────┘└──────────────┘               └───┘ ░ └───────┘ ░ »\n",
       "«      ┌──────────────┐┌───────────────┐┌───┐                ░ ┌───────┐ ░ »\n",
       "«q_0: ─┤ Ry(theta[8]) ├┤ Rx(theta[12]) ├┤ X ├──■─────────────░─┤ Rx(0) ├─░─»\n",
       "«      ├──────────────┤├───────────────┤└─┬─┘┌─┴─┐           ░ ├───────┤ ░ »\n",
       "«q_1: ─┤ Ry(theta[9]) ├┤ Rx(theta[13]) ├──┼──┤ X ├──■────────░─┤ Rx(0) ├─░─»\n",
       "«     ┌┴──────────────┤├───────────────┤  │  └───┘┌─┴─┐      ░ ├───────┤ ░ »\n",
       "«q_2: ┤ Ry(theta[10]) ├┤ Rx(theta[14]) ├──┼───────┤ X ├──■───░─┤ Rx(0) ├─░─»\n",
       "«     ├───────────────┤├───────────────┤  │       └───┘┌─┴─┐ ░ ├───────┤ ░ »\n",
       "«q_3: ┤ Ry(theta[11]) ├┤ Rx(theta[15]) ├──■────────────┤ X ├─░─┤ Rx(0) ├─░─»\n",
       "«     └───────────────┘└───────────────┘               └───┘ ░ └───────┘ ░ »\n",
       "«     ┌───────────────┐┌───────────────┐┌───┐               \n",
       "«q_0: ┤ Ry(theta[16]) ├┤ Rx(theta[20]) ├┤ X ├──■────────────\n",
       "«     ├───────────────┤├───────────────┤└─┬─┘┌─┴─┐          \n",
       "«q_1: ┤ Ry(theta[17]) ├┤ Rx(theta[21]) ├──┼──┤ X ├──■───────\n",
       "«     ├───────────────┤├───────────────┤  │  └───┘┌─┴─┐     \n",
       "«q_2: ┤ Ry(theta[18]) ├┤ Rx(theta[22]) ├──┼───────┤ X ├──■──\n",
       "«     ├───────────────┤├───────────────┤  │       └───┘┌─┴─┐\n",
       "«q_3: ┤ Ry(theta[19]) ├┤ Rx(theta[23]) ├──■────────────┤ X ├\n",
       "«     └───────────────┘└───────────────┘               └───┘</pre>"
      ],
      "text/plain": [
       "     ┌──────────────┐┌──────────────┐┌───┐                ░ ┌───────┐ ░ »\n",
       "q_0: ┤ Ry(theta[0]) ├┤ Rx(theta[4]) ├┤ X ├──■─────────────░─┤ Rx(0) ├─░─»\n",
       "     ├──────────────┤├──────────────┤└─┬─┘┌─┴─┐           ░ ├───────┤ ░ »\n",
       "q_1: ┤ Ry(theta[1]) ├┤ Rx(theta[5]) ├──┼──┤ X ├──■────────░─┤ Rx(0) ├─░─»\n",
       "     ├──────────────┤├──────────────┤  │  └───┘┌─┴─┐      ░ ├───────┤ ░ »\n",
       "q_2: ┤ Ry(theta[2]) ├┤ Rx(theta[6]) ├──┼───────┤ X ├──■───░─┤ Rx(0) ├─░─»\n",
       "     ├──────────────┤├──────────────┤  │       └───┘┌─┴─┐ ░ ├───────┤ ░ »\n",
       "q_3: ┤ Ry(theta[3]) ├┤ Rx(theta[7]) ├──■────────────┤ X ├─░─┤ Rx(0) ├─░─»\n",
       "     └──────────────┘└──────────────┘               └───┘ ░ └───────┘ ░ »\n",
       "«      ┌──────────────┐┌───────────────┐┌───┐                ░ ┌───────┐ ░ »\n",
       "«q_0: ─┤ Ry(theta[8]) ├┤ Rx(theta[12]) ├┤ X ├──■─────────────░─┤ Rx(0) ├─░─»\n",
       "«      ├──────────────┤├───────────────┤└─┬─┘┌─┴─┐           ░ ├───────┤ ░ »\n",
       "«q_1: ─┤ Ry(theta[9]) ├┤ Rx(theta[13]) ├──┼──┤ X ├──■────────░─┤ Rx(0) ├─░─»\n",
       "«     ┌┴──────────────┤├───────────────┤  │  └───┘┌─┴─┐      ░ ├───────┤ ░ »\n",
       "«q_2: ┤ Ry(theta[10]) ├┤ Rx(theta[14]) ├──┼───────┤ X ├──■───░─┤ Rx(0) ├─░─»\n",
       "«     ├───────────────┤├───────────────┤  │       └───┘┌─┴─┐ ░ ├───────┤ ░ »\n",
       "«q_3: ┤ Ry(theta[11]) ├┤ Rx(theta[15]) ├──■────────────┤ X ├─░─┤ Rx(0) ├─░─»\n",
       "«     └───────────────┘└───────────────┘               └───┘ ░ └───────┘ ░ »\n",
       "«     ┌───────────────┐┌───────────────┐┌───┐               \n",
       "«q_0: ┤ Ry(theta[16]) ├┤ Rx(theta[20]) ├┤ X ├──■────────────\n",
       "«     ├───────────────┤├───────────────┤└─┬─┘┌─┴─┐          \n",
       "«q_1: ┤ Ry(theta[17]) ├┤ Rx(theta[21]) ├──┼──┤ X ├──■───────\n",
       "«     ├───────────────┤├───────────────┤  │  └───┘┌─┴─┐     \n",
       "«q_2: ┤ Ry(theta[18]) ├┤ Rx(theta[22]) ├──┼───────┤ X ├──■──\n",
       "«     ├───────────────┤├───────────────┤  │       └───┘┌─┴─┐\n",
       "«q_3: ┤ Ry(theta[19]) ├┤ Rx(theta[23]) ├──■────────────┤ X ├\n",
       "«     └───────────────┘└───────────────┘               └───┘"
      ]
     },
     "execution_count": 14,
     "metadata": {},
     "output_type": "execute_result"
    }
   ],
   "source": [
    "features = [0] * 4\n",
    "pv = ParameterVector(\"theta\", 8 * 3)\n",
    "qc = get_ansatz(4, pv, features)\n",
    "qc.decompose().draw()"
   ]
  },
  {
   "cell_type": "code",
   "execution_count": null,
   "metadata": {},
   "outputs": [],
   "source": []
  },
  {
   "cell_type": "code",
   "execution_count": null,
   "metadata": {},
   "outputs": [],
   "source": []
  }
 ],
 "metadata": {
  "kernelspec": {
   "display_name": "qml",
   "language": "python",
   "name": "python3"
  },
  "language_info": {
   "codemirror_mode": {
    "name": "ipython",
    "version": 3
   },
   "file_extension": ".py",
   "mimetype": "text/x-python",
   "name": "python",
   "nbconvert_exporter": "python",
   "pygments_lexer": "ipython3",
   "version": "3.10.9"
  },
  "orig_nbformat": 4
 },
 "nbformat": 4,
 "nbformat_minor": 2
}
